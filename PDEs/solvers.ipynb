{
 "cells": [
  {
   "cell_type": "markdown",
   "metadata": {},
   "source": [
    "Iterative Solvers\n",
    "===\n",
    "\n",
    "So far we have used direct solvers to solve the linear system of equations. Although a direct solver can profit from the sparse matrix, it's arithmetic complexity is sub-optimal. For large-scale problems iterative solvers are a must.\n",
    "\n",
    "The conjugate gradient (cg) method is the standard method for symmetric and positive definite matrices. It's convergence rate depends on a preconditioner, what is a cheap approximative inverse to the matrix."
   ]
  },
  {
   "cell_type": "code",
   "execution_count": 1,
   "metadata": {},
   "outputs": [],
   "source": [
    "from ngsolve import *\n",
    "from ngsolve.webgui import Draw\n",
    "from netgen.webgui import Draw as DrawGeo"
   ]
  },
  {
   "cell_type": "markdown",
   "metadata": {},
   "source": [
    "We generate a 3D geometry and mesh using the OCC constructive solid geometry (CSG) modeler:"
   ]
  },
  {
   "cell_type": "code",
   "execution_count": 2,
   "metadata": {},
   "outputs": [
    {
     "data": {
      "application/vnd.jupyter.widget-view+json": {
       "model_id": "4e122734d6044cd08fe17b548104eb6a",
       "version_major": 2,
       "version_minor": 0
      },
      "text/plain": [
       "WebGuiWidget(layout=Layout(height='50vh', width='100%'), value={'ngsolve_version': 'Netgen x.x', 'mesh_dim': 3…"
      ]
     },
     "metadata": {},
     "output_type": "display_data"
    }
   ],
   "source": [
    "from netgen.occ import *\n",
    "cube = Box((0,0,0),(1,1,1))\n",
    "cyl = Cylinder((0,0.5,0.5),X, r=0.2, h=1)\n",
    "cube.faces.name = \"outer\"\n",
    "cyl.faces.name = \"cyl\"\n",
    "shape = cube-cyl\n",
    "DrawGeo(shape);"
   ]
  },
  {
   "cell_type": "code",
   "execution_count": 3,
   "metadata": {},
   "outputs": [
    {
     "data": {
      "application/vnd.jupyter.widget-view+json": {
       "model_id": "c70df237509d4a5fb9425c1c9d08942f",
       "version_major": 2,
       "version_minor": 0
      },
      "text/plain": [
       "WebGuiWidget(layout=Layout(height='50vh', width='100%'), value={'gui_settings': {}, 'ngsolve_version': '6.2.24…"
      ]
     },
     "metadata": {},
     "output_type": "display_data"
    }
   ],
   "source": [
    "ngmesh = OCCGeometry(shape).GenerateMesh(maxh=0.1)\n",
    "for l in range(0):\n",
    "    ngmesh.Refine()\n",
    "mesh = Mesh(ngmesh)\n",
    "mesh.Curve(3)\n",
    "Draw (mesh);"
   ]
  },
  {
   "cell_type": "code",
   "execution_count": 4,
   "metadata": {},
   "outputs": [
    {
     "name": "stdout",
     "output_type": "stream",
     "text": [
      "we have 24122 unknowns\n"
     ]
    }
   ],
   "source": [
    "fes = H1(mesh, order=3, dirichlet=\"outer\", wb_withedges=False)\n",
    "print (\"we have\", fes.ndof, \"unknowns\")\n",
    "u = fes.TrialFunction()\n",
    "v = fes.TestFunction()\n",
    "\n",
    "a = BilinearForm(fes)\n",
    "a += grad(u)*grad(v)*dx\n",
    "\n",
    "f = LinearForm(fes)\n",
    "f += v*dx\n",
    "\n",
    "# c = Preconditioner(a, \"direct\", inverse=\"sparsecholesky\")\n",
    "c = Preconditioner(a, \"local\")\n",
    "# c = Preconditioner(a, \"bddc\")\n",
    "\n",
    "gfu = GridFunction(fes)"
   ]
  },
  {
   "cell_type": "markdown",
   "metadata": {},
   "source": [
    "assemble system and setup preconditioner in parallel:"
   ]
  },
  {
   "cell_type": "code",
   "execution_count": 5,
   "metadata": {},
   "outputs": [
    {
     "name": "stdout",
     "output_type": "stream",
     "text": [
      "assemble VOL element 4508/4508                                 \n",
      "assemble VOL element 4508/4508                                 \n"
     ]
    }
   ],
   "source": [
    "ngsglobals.msg_level=5\n",
    "with TaskManager():\n",
    "    a.Assemble()\n",
    "    f.Assemble()"
   ]
  },
  {
   "cell_type": "markdown",
   "metadata": {},
   "source": [
    "solve the system using the preconditioned conjugate gradient method:"
   ]
  },
  {
   "cell_type": "code",
   "execution_count": 6,
   "metadata": {},
   "outputs": [
    {
     "name": "stdout",
     "output_type": "stream",
     "text": [
      "\u001b[2KCG iteration 1, residual = 0.04806510211955605     \n",
      "\u001b[2KCG iteration 2, residual = 0.053444916495502315     \n",
      "\u001b[2KCG iteration 3, residual = 0.05597869305039399     \n",
      "\u001b[2KCG iteration 4, residual = 0.04586947132392968     \n",
      "\u001b[2KCG iteration 5, residual = 0.030649990803653278     \n",
      "\u001b[2KCG iteration 6, residual = 0.024350139933223672     \n",
      "\u001b[2KCG iteration 7, residual = 0.01897169465754093     \n",
      "\u001b[2KCG iteration 8, residual = 0.013456673742780959     \n",
      "\u001b[2KCG iteration 9, residual = 0.009691378582119851     \n",
      "\u001b[2KCG iteration 10, residual = 0.007602921521578274     \n",
      "\u001b[2KCG iteration 11, residual = 0.006742906370794676     \n",
      "\u001b[2KCG iteration 12, residual = 0.0064356871493630365     \n",
      "\u001b[2KCG iteration 13, residual = 0.0063719120543688675     \n",
      "\u001b[2KCG iteration 14, residual = 0.006727514653593267     \n",
      "\u001b[2KCG iteration 15, residual = 0.006627266907791014     \n",
      "\u001b[2KCG iteration 16, residual = 0.005696907354487289     \n",
      "\u001b[2KCG iteration 17, residual = 0.004423754350764521     \n",
      "\u001b[2KCG iteration 18, residual = 0.0033608706866222267     \n",
      "\u001b[2KCG iteration 19, residual = 0.0025365970045824787     \n",
      "\u001b[2KCG iteration 20, residual = 0.0019181433938187757     \n",
      "\u001b[2KCG iteration 21, residual = 0.0015753395979251424     \n",
      "\u001b[2KCG iteration 22, residual = 0.0013996176084158534     \n",
      "\u001b[2KCG iteration 23, residual = 0.0012669872488663353     \n",
      "\u001b[2KCG iteration 24, residual = 0.0011384226489816707     \n",
      "\u001b[2KCG iteration 25, residual = 0.0009909055706573886     \n",
      "\u001b[2KCG iteration 26, residual = 0.0008561178275408297     \n",
      "\u001b[2KCG iteration 27, residual = 0.0007149435463964906     \n",
      "\u001b[2KCG iteration 28, residual = 0.0005817165198821433     \n",
      "\u001b[2KCG iteration 29, residual = 0.00048075391554038124     \n",
      "\u001b[2KCG iteration 30, residual = 0.00040195008262770436     \n",
      "\u001b[2KCG iteration 31, residual = 0.00033617615638389036     \n",
      "\u001b[2KCG iteration 32, residual = 0.0002656615907359381     \n",
      "\u001b[2KCG iteration 33, residual = 0.00020740081776484965     \n",
      "\u001b[2KCG iteration 34, residual = 0.00015962402318246902     \n",
      "\u001b[2KCG iteration 35, residual = 0.00012663480108724077     \n",
      "\u001b[2KCG iteration 36, residual = 0.00010202537668826803     \n",
      "\u001b[2KCG iteration 37, residual = 8.52035963780989e-05     \n",
      "\u001b[2KCG iteration 38, residual = 7.637275579163232e-05     \n",
      "\u001b[2KCG iteration 39, residual = 7.031401193858886e-05     \n",
      "\u001b[2KCG iteration 40, residual = 6.352282560114922e-05     \n",
      "\u001b[2KCG iteration 41, residual = 5.616675627862264e-05     \n",
      "\u001b[2KCG iteration 42, residual = 4.750920925327998e-05     \n",
      "\u001b[2KCG iteration 43, residual = 3.8622379171323886e-05     \n",
      "\u001b[2KCG iteration 44, residual = 3.07568759776099e-05     \n",
      "\u001b[2KCG iteration 45, residual = 2.3838971486032358e-05     \n",
      "\u001b[2KCG iteration 46, residual = 1.8465192459560296e-05     \n",
      "\u001b[2KCG iteration 47, residual = 1.4431021234213894e-05     \n",
      "\u001b[2KCG iteration 48, residual = 1.14284584874437e-05     \n",
      "\u001b[2KCG iteration 49, residual = 9.647351724749843e-06     \n",
      "\u001b[2KCG iteration 50, residual = 8.817024336649135e-06     \n",
      "\u001b[2KCG iteration 51, residual = 8.201009184669166e-06     \n",
      "\u001b[2KCG iteration 52, residual = 7.903920342004076e-06     \n",
      "\u001b[2KCG iteration 53, residual = 7.120008835419874e-06     \n",
      "\u001b[2KCG iteration 54, residual = 5.990876658330212e-06     \n",
      "\u001b[2KCG iteration 55, residual = 4.830530488972712e-06     \n",
      "\u001b[2KCG iteration 56, residual = 3.585518265774199e-06     \n",
      "\u001b[2KCG iteration 57, residual = 2.6171907183807766e-06     \n",
      "\u001b[2KCG iteration 58, residual = 1.9371172490451382e-06     \n",
      "\u001b[2KCG iteration 59, residual = 1.5340054724893388e-06     \n",
      "\u001b[2KCG iteration 60, residual = 1.3251054146170722e-06     \n",
      "\u001b[2KCG iteration 61, residual = 1.2364901733663235e-06     \n",
      "\u001b[2KCG iteration 62, residual = 1.1974589843706881e-06     \n",
      "\u001b[2KCG iteration 63, residual = 1.1381918221822848e-06     \n",
      "\u001b[2KCG iteration 64, residual = 1.0267510500726366e-06     \n",
      "\u001b[2KCG iteration 65, residual = 8.519136807128926e-07     \n",
      "\u001b[2KCG iteration 66, residual = 6.649806871369953e-07     \n",
      "\u001b[2KCG iteration 67, residual = 5.162332355698014e-07     \n",
      "\u001b[2KCG iteration 68, residual = 3.996275425443411e-07     \n",
      "\u001b[2KCG iteration 69, residual = 3.140810114734494e-07     \n",
      "\u001b[2KCG iteration 70, residual = 2.567911766529999e-07     \n",
      "\u001b[2KCG iteration 71, residual = 2.1860287200163597e-07     \n",
      "\u001b[2KCG iteration 72, residual = 1.9356954102429297e-07     \n",
      "\u001b[2KCG iteration 73, residual = 1.7523856001063507e-07     \n",
      "\u001b[2KCG iteration 74, residual = 1.5661887396520735e-07     \n",
      "\u001b[2KCG iteration 75, residual = 1.3935108142983856e-07     \n",
      "\u001b[2KCG iteration 76, residual = 1.2144225859983342e-07     \n",
      "\u001b[2KCG iteration 77, residual = 1.0087258095876778e-07     \n",
      "\u001b[2KCG iteration 78, residual = 8.16333868248489e-08     \n",
      "\u001b[2KCG iteration 79, residual = 6.595563503484493e-08     \n",
      "\u001b[2KCG iteration 80, residual = 5.332216081839547e-08     \n",
      "\u001b[2KCG iteration 81, residual = 4.203733106903148e-08     \n",
      "\u001b[2KCG iteration 82, residual = 3.4260743147951614e-08     \n",
      "\u001b[2KCG iteration 83, residual = 2.8101988098130043e-08     \n",
      "\u001b[2KCG iteration 84, residual = 2.3513150288888566e-08     \n",
      "\u001b[2KCG iteration 85, residual = 1.978253713034843e-08     \n",
      "\u001b[2KCG iteration 86, residual = 1.7133466708559602e-08     \n",
      "\u001b[2KCG iteration 87, residual = 1.5186927432253124e-08     \n",
      "\u001b[2KCG iteration 88, residual = 1.3602793545563775e-08     \n",
      "\u001b[2KCG iteration 89, residual = 1.2123245439795862e-08     \n",
      "\u001b[2KCG iteration 90, residual = 1.0504973800448714e-08     \n",
      "\u001b[2KCG iteration 91, residual = 8.792624352176322e-09     \n",
      "\u001b[2KCG iteration 92, residual = 7.2193113522601585e-09     \n",
      "\u001b[2KCG iteration 93, residual = 5.633025875979611e-09     \n",
      "\u001b[2KCG iteration 94, residual = 4.3252359775601565e-09     \n",
      "\u001b[2KCG iteration 95, residual = 3.397782363559703e-09     \n",
      "\u001b[2KCG iteration 96, residual = 2.769837339937819e-09     \n",
      "\u001b[2KCG iteration 97, residual = 2.3356529760482442e-09     \n",
      "\u001b[2KCG iteration 98, residual = 2.0649763569385884e-09     \n",
      "\u001b[2KCG iteration 99, residual = 1.866904277493835e-09     \n",
      "\u001b[2KCG iteration 100, residual = 1.7029693710293213e-09     \n",
      "\u001b[2KCG iteration 101, residual = 1.551455126658604e-09     \n",
      "\u001b[2KCG iteration 102, residual = 1.342631014448771e-09     \n",
      "\u001b[2KCG iteration 103, residual = 1.101827898218723e-09     \n",
      "\u001b[2KCG iteration 104, residual = 8.707861371909915e-10     \n",
      "\u001b[2KCG iteration 105, residual = 6.745064682331798e-10     \n",
      "\u001b[2KCG iteration 106, residual = 5.076082948493497e-10     \n",
      "\u001b[2KCG iteration 107, residual = 3.9291122343842194e-10     \n",
      "\u001b[2KCG iteration 108, residual = 3.1112945751630316e-10     \n",
      "\u001b[2KCG iteration 109, residual = 2.6499209941483587e-10     \n",
      "\u001b[2KCG iteration 110, residual = 2.383776641209865e-10     \n",
      "\u001b[2KCG iteration 111, residual = 2.2251884097905524e-10     \n",
      "\u001b[2KCG iteration 112, residual = 2.0885898651316865e-10     \n",
      "\u001b[2KCG iteration 113, residual = 1.8883989868399614e-10     \n",
      "\u001b[2KCG iteration 114, residual = 1.6031405628778224e-10     \n",
      "\u001b[2KCG iteration 115, residual = 1.2645756117862857e-10     \n",
      "\u001b[2KCG iteration 116, residual = 9.387599666171813e-11     \n",
      "\u001b[2KCG iteration 117, residual = 6.990650900563353e-11     \n",
      "\u001b[2KCG iteration 118, residual = 5.3398311330566924e-11     \n",
      "\u001b[2KCG iteration 119, residual = 4.390532808281605e-11     \n",
      "\u001b[2KCG iteration 120, residual = 3.929295210956317e-11     \n",
      "\u001b[2KCG iteration 121, residual = 3.689075332400871e-11     \n",
      "\u001b[2KCG iteration 122, residual = 3.589019950218349e-11     \n",
      "\u001b[2KCG iteration 123, residual = 3.423264493320439e-11     \n",
      "\u001b[2KCG iteration 124, residual = 3.030258200902329e-11     \n",
      "\u001b[2KCG iteration 125, residual = 2.4579624579867998e-11     \n",
      "\u001b[2KCG iteration 126, residual = 1.847383274820983e-11     \n",
      "\u001b[2KCG iteration 127, residual = 1.3279950209705005e-11     \n",
      "\u001b[2KCG iteration 128, residual = 9.68941430066339e-12     \n",
      "\u001b[2KCG iteration 129, residual = 7.439490041266043e-12     \n",
      "\u001b[2KCG iteration 130, residual = 6.034722741485242e-12     \n",
      "\u001b[2KCG iteration 131, residual = 5.385167981398919e-12     \n",
      "\u001b[2KCG iteration 132, residual = 5.178540583175054e-12     \n",
      "\u001b[2KCG iteration 133, residual = 5.095913906662995e-12     \n",
      "\u001b[2KCG iteration 134, residual = 4.790930200165387e-12     \n",
      "\u001b[2KCG iteration 135, residual = 4.223298887391448e-12     \n",
      "\u001b[2KCG iteration 136, residual = 3.3024874574348186e-12     \n",
      "\u001b[2KCG iteration 137, residual = 2.4082559660634502e-12     \n",
      "\u001b[2KCG iteration 138, residual = 1.7097439150714119e-12     \n",
      "\u001b[2KCG iteration 139, residual = 1.2075519353006194e-12     \n",
      "\u001b[2KCG iteration 140, residual = 9.088501926156387e-13     \n",
      "\u001b[2KCG iteration 141, residual = 7.55914460463091e-13     \n",
      "\u001b[2KCG iteration 142, residual = 6.835350540017872e-13     \n",
      "\u001b[2KCG iteration 143, residual = 6.80033184056223e-13     \n",
      "\u001b[2KCG iteration 144, residual = 6.750374141833523e-13     \n",
      "\u001b[2KCG iteration 145, residual = 6.163918915631777e-13     \n",
      "\u001b[2KCG iteration 146, residual = 5.101719501559665e-13     \n",
      "\u001b[2KCG iteration 147, residual = 3.807278265640076e-13     \n",
      "\u001b[2KCG iteration 148, residual = 2.7572952107988067e-13     \n",
      "\u001b[2KCG iteration 149, residual = 1.9587368741617207e-13     \n",
      "\u001b[2KCG iteration 150, residual = 1.414248341735833e-13     \n",
      "\u001b[2KCG iteration 151, residual = 1.09699872145711e-13     \n",
      "\u001b[2KCG iteration 152, residual = 9.343932418116547e-14     \n",
      "\u001b[2KCG iteration 153, residual = 8.686358089867209e-14     \n",
      "\u001b[2KCG iteration 154, residual = 8.554273668915926e-14     \n",
      "\u001b[2KCG iteration 155, residual = 8.37911679614826e-14     \n",
      "\u001b[2KCG iteration 156, residual = 7.62721872663342e-14     \n",
      "\u001b[2KCG iteration 157, residual = 6.287939805674254e-14     \n",
      "\u001b[2KCG iteration 158, residual = 4.7638025374401585e-14     \n"
     ]
    }
   ],
   "source": [
    "from ngsolve.krylovspace import CGSolver\n",
    "\n",
    "with TaskManager():\n",
    "    inv = CGSolver(mat=a.mat, pre=c.mat, printrates=True, maxiter=400)\n",
    "    gfu.vec.data = inv * f.vec"
   ]
  },
  {
   "cell_type": "code",
   "execution_count": 7,
   "metadata": {},
   "outputs": [
    {
     "data": {
      "application/vnd.jupyter.widget-view+json": {
       "model_id": "e583cedc731f444aa2f60fbc76a78a42",
       "version_major": 2,
       "version_minor": 0
      },
      "text/plain": [
       "WebGuiWidget(layout=Layout(height='50vh', width='100%'), value={'gui_settings': {}, 'ngsolve_version': '6.2.24…"
      ]
     },
     "metadata": {},
     "output_type": "display_data"
    }
   ],
   "source": [
    "Draw (gfu);"
   ]
  },
  {
   "cell_type": "code",
   "execution_count": null,
   "metadata": {},
   "outputs": [],
   "source": []
  }
 ],
 "metadata": {
  "kernelspec": {
   "display_name": "Python 3 (ipykernel)",
   "language": "python",
   "name": "python3"
  },
  "language_info": {
   "codemirror_mode": {
    "name": "ipython",
    "version": 3
   },
   "file_extension": ".py",
   "mimetype": "text/x-python",
   "name": "python",
   "nbconvert_exporter": "python",
   "pygments_lexer": "ipython3",
   "version": "3.12.2"
  }
 },
 "nbformat": 4,
 "nbformat_minor": 4
}
