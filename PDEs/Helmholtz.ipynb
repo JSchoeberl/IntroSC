{
 "cells": [
  {
   "cell_type": "markdown",
   "metadata": {},
   "source": [
    "Helmholtz Equation\n",
    "===\n",
    "\n",
    "Inserting a time harmonic right hand side $f(x,t) = f(x) e^{i \\omega t}$ into the wave equation leads to a time-harmonic solution solution $u(x,t) = u(x) e^{i \\omega t}$ satisfying \n",
    "\n",
    "$$\n",
    "\\frac{\\partial^2}{\\partial t^2} u(x) e^{i \\omega t} - \\Delta u(x) e^{i \\omega t} = f(x) e^{i \\omega t}.\n",
    "$$\n",
    "\n",
    "\n",
    "This leads to the Helmholtz equation (also known as frequency domain wave equation)\n",
    "\n",
    "$$\n",
    "-\\Delta u - \\omega^2 u = f.\n",
    "$$\n",
    "\n",
    "We consider Dirichlet (**hard**) boundary conditions \n",
    "\n",
    "$$\n",
    "u(x) = 0 \n",
    "$$\n",
    "\n",
    "and Robin (**absorbing**) boundary conditions\n",
    "\n",
    "$$\n",
    "\\frac{\\partial u}{\\partial n} - i \\omega u = 0 \\qquad \\text{ on } \\Gamma_R\n",
    "$$\n",
    "\n",
    "The weak form is \n",
    "\n",
    "$$\n",
    "\\int_\\Omega \\nabla u \\nabla v - \\omega^2 u v - i \\omega \\int_{\\Gamma_R} u v = \\int_\\Omega f v\n",
    "$$"
   ]
  },
  {
   "cell_type": "code",
   "execution_count": null,
   "metadata": {},
   "outputs": [],
   "source": [
    "from ngsolve import *\n",
    "from ngsolve.webgui import Draw"
   ]
  },
  {
   "cell_type": "code",
   "execution_count": null,
   "metadata": {},
   "outputs": [],
   "source": [
    "mesh = Mesh(unit_square.GenerateMesh(maxh=0.05))"
   ]
  },
  {
   "cell_type": "code",
   "execution_count": null,
   "metadata": {
    "scrolled": true
   },
   "outputs": [],
   "source": [
    "fes = H1(mesh, order=5, complex=True)\n",
    "u,v = fes.TnT()\n",
    "\n",
    "omega = 2*pi*10\n",
    "\n",
    "a = BilinearForm(fes)\n",
    "a += (grad(u)*grad(v)-omega**2*u*v)*dx\n",
    "a += -1j*omega*u*v*ds\n",
    "a.Assemble()\n",
    "\n",
    "source = exp(-50**2*((x-0.5)*(x-0.5)+(y-0.5)*(y-0.5)))\n",
    "f = LinearForm(source*v*dx(bonus_intorder=5)).Assemble()\n",
    "\n",
    "gfu = GridFunction(fes)\n",
    "gfu.vec.data = a.mat.Inverse(fes.FreeDofs()) * f.vec\n",
    "Draw (gfu, order=3, animate_complex=True);"
   ]
  },
  {
   "cell_type": "code",
   "execution_count": null,
   "metadata": {
    "scrolled": true
   },
   "outputs": [],
   "source": [
    "mesh = Mesh(unit_square.GenerateMesh(maxh=0.03))\n",
    "fes = H1(mesh, order=8, complex=True)\n",
    "u,v = fes.TnT()\n",
    "\n",
    "a = BilinearForm(fes)\n",
    "f = LinearForm(fes)\n",
    "\n",
    "omega = 2*pi*20\n",
    "a += grad(u)*grad(v)*dx-omega**2*u*v*dx - 1j*omega*u*v*ds\n",
    "f = LinearForm(fes)\n",
    "\n",
    "source = exp(-10**2*(y-0.5)*(y-0.5))\n",
    "f += source*v * ds(\"left\")\n",
    "\n",
    "a.Assemble()\n",
    "f.Assemble()\n",
    "\n",
    "gfu = GridFunction(fes)\n",
    "gfu.vec.data = a.mat.Inverse(fes.FreeDofs()) * f.vec\n",
    "Draw (gfu, order=3, animate_complex=True)"
   ]
  },
  {
   "cell_type": "code",
   "execution_count": null,
   "metadata": {},
   "outputs": [],
   "source": []
  },
  {
   "cell_type": "code",
   "execution_count": null,
   "metadata": {},
   "outputs": [],
   "source": []
  }
 ],
 "metadata": {
  "kernelspec": {
   "display_name": "Python 3 (ipykernel)",
   "language": "python",
   "name": "python3"
  },
  "language_info": {
   "codemirror_mode": {
    "name": "ipython",
    "version": 3
   },
   "file_extension": ".py",
   "mimetype": "text/x-python",
   "name": "python",
   "nbconvert_exporter": "python",
   "pygments_lexer": "ipython3",
   "version": "3.12.2"
  }
 },
 "nbformat": 4,
 "nbformat_minor": 4
}
