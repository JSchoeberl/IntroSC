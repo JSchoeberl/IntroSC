{
 "cells": [
  {
   "cell_type": "markdown",
   "id": "6032b465-4274-49a8-bd15-5e35d8a0c074",
   "metadata": {},
   "source": [
    "# Approximation of functions\n",
    "\n",
    "In this section we investigate how well we can approximate given functions by finite element functions. We compare various opportunities of to project a function into the fe space:\n",
    "\n",
    "* Interpolation: \\\n",
    "  The function is first interpolated in element vertices. \\\n",
    "  In the second step the degrees of freedom on the element edges are set, which could also be done by interpolation in nodes on the edges. An alternative is to project the function on the edges by solving a 1D variations problem for each edge, and keeping the vertex values unchanged. \\\n",
    "  As a third step, the interior degrees of freedom are set. Again by interpolation, but here the choice of stable interpolation points on simplicial elements is unclear. The alternative is to solve an element-wise Dirichlet-problem. In NGSolve, this is obtained via\n",
    "  ```\n",
    "  gfu.Interpolate(ugiven)\n",
    "  ```\n",
    "  \n",
    "  Interpolation is implemnted for many finite elements spaces, but not for all.\n",
    "\n",
    "* Global $L_2$-projection: \\\n",
    "  This option allows to approximate discontinuous functions. However, one needs to solve a global linear system to determine the expansion coefficients. In NGSolve, one has to formulate a variational problem to realize the $L_2$-projection.\n",
    "\n",
    "\n",
    "* Local $L_2$-projection: \\\n",
    "  In a first step, one computes the element-wise $L_2$-projection for each individual elements. To obtain a continuous function, one performs arithmetic averaging of values in vertices and edges. This is obtained using\n",
    "  ```\n",
    "  gfu.Set(ugiven)\n",
    "  ```\n",
    "  The local $L_2$-projection is implemented generically for all spaces where it makes sense, i.e. provide element-wise basis functions).\n"
   ]
  },
  {
   "cell_type": "markdown",
   "id": "532799a5-46df-456d-9255-621645b2c74a",
   "metadata": {},
   "source": [
    "## Smooth functions\n",
    "\n",
    "We approximate smooth functions. We expect convergence rates\n",
    "$$\n",
    "\\| u - \\Pi_h u \\|_{L_2} \\leq c h^{k+1} \\| u \\|_{H^{k+1}}\n",
    "$$\n",
    "for finite elements of order $k$. The constant $c$ is independent of the mesh-size $h$, but depends on the order $k$. "
   ]
  },
  {
   "cell_type": "code",
   "execution_count": null,
   "id": "9b502ec3-a30f-41bc-a86f-5aca51c80392",
   "metadata": {},
   "outputs": [],
   "source": [
    "from ngsolve import *\n",
    "from ngsolve.webgui import Draw\n",
    "\n",
    "def ComputeError (func, order, maxh=0.3, reflevels=0):\n",
    "    mesh = Mesh(unit_square.GenerateMesh(maxh=maxh))\n",
    "    for l in range(reflevels):\n",
    "        mesh.Refine()\n",
    "    fes = H1(mesh, order=order)\n",
    "    gfu = GridFunction(fes)\n",
    "    gfu.Set (func)\n",
    "\n",
    "    err = sqrt(Integrate( (func-gfu)**2, mesh, order=2*order+4))\n",
    "    return fes.ndof, err"
   ]
  },
  {
   "cell_type": "code",
   "execution_count": null,
   "id": "0d5d1834-d8c8-4ed9-9ec5-771b3187ff83",
   "metadata": {},
   "outputs": [],
   "source": [
    "ComputeError (x*x, order=1, maxh=0.5, reflevels=3)"
   ]
  },
  {
   "cell_type": "code",
   "execution_count": null,
   "id": "819b4458-9cfa-40a5-b8e3-5881a779c753",
   "metadata": {},
   "outputs": [],
   "source": [
    "errors = []\n",
    "hs = []\n",
    "func = sin(pi*x)\n",
    "for l in range(6):\n",
    "    ndof, err = ComputeError (func, order=2, maxh=1, reflevels=l)\n",
    "    errors.append(err)\n",
    "    hs.append(1/2**l)"
   ]
  },
  {
   "cell_type": "code",
   "execution_count": null,
   "id": "92da455b-edda-450d-9264-1efaa3eeac11",
   "metadata": {},
   "outputs": [],
   "source": [
    "import matplotlib.pyplot as plt\n",
    "plt.xscale('log')\n",
    "plt.yscale('log')\n",
    "plt.xlabel('mesh-size')\n",
    "plt.ylabel('L2-error')\n",
    "plt.plot (hs, errors, '-*', label=\"error\")\n",
    "plt.plot ( [hs[0], hs[-1]], [2*errors[-1]*(hs[0]/hs[-1])**3,2*errors[-1]], '--', label=\"h^3\")\n",
    "plt.legend()"
   ]
  },
  {
   "cell_type": "markdown",
   "id": "d66355c4-25db-46ca-bc1c-47b287e42aeb",
   "metadata": {},
   "source": [
    "## Exercises\n",
    "\n",
    "### Study convergence depending on polynomial order. It's fair to plot the error over number of degrees of freedom.\n",
    "\n",
    "### Study convergence w.r.t. the $H^1$-semi-norm $\\| \\nabla (u - \\Pi_h u) \\|$. Here, symbolic differentiation of the given function is useful:"
   ]
  },
  {
   "cell_type": "code",
   "execution_count": null,
   "id": "47a92cea-2ff0-4d4b-9cee-59f31c280a7a",
   "metadata": {},
   "outputs": [],
   "source": [
    "func = sin(10*x*y)\n",
    "print (\"func=\\n\", func)\n",
    "gradfunc = CF( (func.Diff(x), func.Diff(y))) # make vectorial coefficient-function of partial derivatives\n",
    "print (\"gradient=\\n\", gradfunc)"
   ]
  },
  {
   "cell_type": "markdown",
   "id": "aec889ad-bd9f-4422-872a-863fad9ffc82",
   "metadata": {},
   "source": [
    "### Consider functions with singularities like $\\sqrt{x^2+y^2}^\\alpha$\n",
    "\n",
    "Here, geometric mesh refinement towards the singular corner may help:"
   ]
  },
  {
   "cell_type": "code",
   "execution_count": null,
   "id": "9f6a2bd8-f4a1-430a-b120-fede9c74f1a1",
   "metadata": {},
   "outputs": [],
   "source": [
    "from netgen.occ import *\n",
    "square = Rectangle(1,1).Face()\n",
    "square.vertices.Min(X+Y).hpref = 1\n",
    "mesh = Mesh(OCCGeometry(square, dim=2).GenerateMesh(maxh=0.3))\n",
    "mesh.RefineHP(4, factor=0.25)\n",
    "Draw (mesh);"
   ]
  },
  {
   "cell_type": "markdown",
   "id": "0f87ef2e-59d0-40ac-8ba0-3747dae02188",
   "metadata": {},
   "source": [
    "### Consider discontinuous functions like\n",
    "$$\n",
    "f(x,y) = \\left\\{ \\begin{array}{cc}\n",
    "      1 & (x-0.5)^2+(y-0.5)^2 < 0.3^2 \\\\\n",
    "      0 & \\text{else}\n",
    "        \\end{array} \\right.,\n",
    "$$\n",
    "or functions with a kink like $\\max \\{0.3^2-(x-0.5)^2-(y-0.5)^2, 0 \\}$. Plot the interpolated functions."
   ]
  },
  {
   "cell_type": "code",
   "execution_count": null,
   "id": "7a3ec6e6-a6b3-4eaf-8082-d8b40c8b4692",
   "metadata": {},
   "outputs": [],
   "source": [
    "mesh = Mesh(unit_square.GenerateMesh(maxh=0.05))\n",
    "func = IfPos( (x-0.5)**2 + (y-0.5)**2 - 0.3**2, 0, 1)\n",
    "Draw (func, mesh, order=10);   # use 10^2 points per element for plotting"
   ]
  },
  {
   "cell_type": "markdown",
   "id": "3869762c-6c45-4a0e-af32-6adb9ea58c3f",
   "metadata": {},
   "source": [
    "Does it help to resolve the discontinuity by the geometry?"
   ]
  },
  {
   "cell_type": "code",
   "execution_count": null,
   "id": "403a1ddf-f3ea-4347-abfe-729053efe429",
   "metadata": {},
   "outputs": [],
   "source": [
    "square = Rectangle(1,1).Face()\n",
    "circ = Circle((0.5, 0.5), 0.3).Face()\n",
    "outer = square-circ\n",
    "circ.faces.name=\"inner\"\n",
    "outer.faces.name=\"outer\"\n",
    "shape = Glue([outer,circ])\n",
    "Draw (shape)\n",
    "mesh = Mesh(OCCGeometry(shape, dim=2).GenerateMesh(maxh=0.05))\n",
    "Draw (mesh);"
   ]
  },
  {
   "cell_type": "code",
   "execution_count": null,
   "id": "1e519b11-15a8-408e-9d8e-3fa38a28eeb5",
   "metadata": {},
   "outputs": [],
   "source": []
  },
  {
   "cell_type": "code",
   "execution_count": null,
   "id": "f9c040fd-026a-48c1-9553-786d4436dfb5",
   "metadata": {},
   "outputs": [],
   "source": []
  }
 ],
 "metadata": {
  "kernelspec": {
   "display_name": "Python 3 (ipykernel)",
   "language": "python",
   "name": "python3"
  },
  "language_info": {
   "codemirror_mode": {
    "name": "ipython",
    "version": 3
   },
   "file_extension": ".py",
   "mimetype": "text/x-python",
   "name": "python",
   "nbconvert_exporter": "python",
   "pygments_lexer": "ipython3",
   "version": "3.13.2"
  },
  "widgets": {
   "application/vnd.jupyter.widget-state+json": {
    "state": {},
    "version_major": 2,
    "version_minor": 0
   }
  }
 },
 "nbformat": 4,
 "nbformat_minor": 5
}
