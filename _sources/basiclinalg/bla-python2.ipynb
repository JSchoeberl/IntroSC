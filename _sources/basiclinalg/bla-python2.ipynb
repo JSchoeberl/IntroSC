{
 "cells": [
  {
   "cell_type": "markdown",
   "id": "e75640b4-bd83-4783-b610-e5e8f30ecb95",
   "metadata": {},
   "source": [
    "# Python bindings\n",
    "\n",
    "C++ and Python are are strong combination: With C++ we can program for maximal performance, with Python we can work with objects in a very convenient way. Both share a similar object oriented paradigm.\n",
    "\n",
    "Python bindings allow to use C++ functions and classes from Python.\n",
    "\n",
    "A popular library for wrapping C++ objects to Python is\n",
    "[pybind11](https://pybind11.readthedocs.io/en/stable/).\n",
    "\n",
    "\n",
    "Now you have to install [Python](https://www.python.org). Choose a recent version (at least Python 3.8 should be ok). Using conda is also fine, you have to replace `pip install` by `conda install -c conda-forge` in the following. On MacOS use `pip3` instead of `pip`.\n",
    "\n",
    "Install pybind11 as a Python package:\n",
    "\n",
    "    pip install pybind11\n",
    "\n",
    "\n",
    "Clone the pybind-branch from the ASC-git (or switch to the pybind - branch in vscode):\n",
    "\n",
    "    git clone --branch pybind https://github.com/TUWien-ASC/ASC-bla.git\n",
    "\n",
    "\n",
    "For building and installing our Python package we use [scikit-build](https://scikit-build.readthedocs.io/en/latest/) which can be installed with \n",
    "\n",
    "    pip install scikit-build\n",
    "\n",
    "Building, installing and testing ASC-bla should now work with\n",
    "\n",
    "    cd ASC-bla\n",
    "    pip install . -v\n",
    "    cd py_tests\n",
    "    python3 test_vector.py\n",
    "\n",
    "The command `pip install .` reads information from the files `setup.py` and `pyproject.toml`, and calls *cmake* to build the project. The *cmake*-file `CMakeLists.txt` needed some update to find the Python installation, and the pybind11 - directories. \n",
    "\n",
    "The Python file *test_vector.py* uses features of our `Vector` Python-class.\n",
    "\n",
    "If this works, merge the pybind branch into the main branch of your repo."
   ]
  },
  {
   "cell_type": "markdown",
   "id": "acc54d1c-8832-46ca-937a-cfc5dceb2d9f",
   "metadata": {},
   "source": [
    "## Binding C++ classes to Python:\n",
    "\n",
    "Python-wrapping makes our C++ functions and classes available in Python. \n",
    "All code for wrapping the classes and functions happens in *src/bind_bla.cpp*:\n",
    "\n",
    "```cpp\n",
    "#include <pybind11/pybind11.h>\n",
    "#include \"vector.h\"\n",
    "\n",
    "using namespace ASC_bla;\n",
    "namespace py = pybind11;\n",
    "\n",
    "PYBIND11_MODULE(bla, m) {\n",
    "    m.doc() = \"Basic linear algebra module\"; // optional module docstring\n",
    "    \n",
    "    py::class_<Vector<double>> (m, \"Vector\")\n",
    "      .def(py::init<size_t>(), \n",
    "           py::arg(\"size\"), \"create vector of given size)\n",
    "      .def(\"__len__\", &Vector<double>::Size, \n",
    "           \"return size of vector\")\n",
    "      .def(\"__str__\", [](const Vector<double> & self)\n",
    "      {\n",
    "        std::stringstream str;\n",
    "        str << self;\n",
    "        return str.str();\n",
    "      })\n",
    "      ...\n",
    "}\n",
    "```\n",
    "\n",
    "* we include the pybind11 headers, and abbreviate the pybind11 namespace as py\n",
    "* PYBIND11_MODULE is a macro setting up the module *bla*, we can add members to it using the variable m.\n",
    "* `py::class_<Vector<double>> (m, \"Vector\")` wraps the C++ class `Vector<double>` to Python, where its name is `Vector`. Templates are not supported in Python.\n",
    "* With `def` we can implement member functions and operators. We give the name of the function (in Python), the C++ function (which may be a old-style function pointer, member function pointer, or a lambda-function), name the arguments, and provide the documentation\n",
    "* `py::init<size_t>()` is a special syntax for the constructor, in this case for the ctor with one size_t argument.\n",
    "* the function `__len__` is called from the Python `len(v)` built-in function\n",
    "* the function `__str__` is called to convert the object to a string, it is used from the `print(vec)` function"
   ]
  },
  {
   "cell_type": "markdown",
   "id": "981faa40-7068-4e0c-b0fa-0d343b054539",
   "metadata": {},
   "source": [
    "### some more operators: vector+vector, vector$*$scalar, scalar$*$vector\n",
    "```cpp\n",
    ".def(\"__add__\", [](Vector<double> & self, Vector<double> & other)\n",
    "    { return Vector<double> (self+other); })\n",
    ".def(\"__mul__\", [](Vector<double> & self, double scal)\n",
    "    { return Vector<double> (scal*self); })\n",
    ".def(\"__rmul__\", [](Vector<double> & self, double scal)\n",
    "    { return Vector<double> (scal*self); })\n",
    "```\n",
    "\n",
    "Here is the list of \n",
    "[Python-operators](https://docs.python.org/3/library/operator.html)"
   ]
  },
  {
   "cell_type": "markdown",
   "id": "96f7868d-5268-4ca9-b68f-7d3729318a1c",
   "metadata": {},
   "source": [
    "### setter/getter functions:\n",
    "\n",
    "```cpp\n",
    ".def(\"__setitem__\", [](Vector<double> & self, int i, double v) {\n",
    "    if (i < 0) i += self.Size();\n",
    "    if (i < 0 || i >= self.Size()) throw py::index_error(\"vector index out of range\");\n",
    "    self(i) = v;\n",
    "})\n",
    ".def(\"__getitem__\", [](Vector<double> & self, int i) { return self(i); })\n",
    "\n",
    ".def(\"__setitem__\", [](Vector<double> & self, py::slice inds, double val) {\n",
    "    size_t start, stop, step, n;\n",
    "    if (!inds.compute(self.Size(), &start, &stop, &step, &n))\n",
    "        throw py::error_already_set();\n",
    "    self.Range(start, stop).Slice(0,step) = val;\n",
    "})\n",
    "```\n",
    "\n",
    "The bracket operators `v[i] = val` or `print (v[j])` call the `__setitem__` and `__getitem__` methods with an `int` argument. In Python `v[-1]` returns the last element. \n",
    "The Python slice operator `v[3:7] = 0` calls the `__setitem__` method with an `py::slice` argument. "
   ]
  },
  {
   "cell_type": "markdown",
   "id": "3ad22348-2f2f-4dc0-889c-4a1ce33ecef5",
   "metadata": {},
   "source": [
    "## Importing the python module\n",
    "We can now import the python module bla from the package ASCsoft. Either in a plain *.py* Python file, or into jupyter notebooks:"
   ]
  },
  {
   "cell_type": "code",
   "execution_count": null,
   "id": "83b8d4df-f7e6-41eb-9e5b-f3c0e7b8ed6f",
   "metadata": {},
   "outputs": [],
   "source": [
    "from ASCsoft.bla import *"
   ]
  },
  {
   "cell_type": "code",
   "execution_count": null,
   "id": "b3552b7c-6309-4f32-8629-951d81d06c73",
   "metadata": {},
   "outputs": [],
   "source": [
    "x = Vector(5)\n",
    "y = Vector(5)\n",
    "\n",
    "for i in range(len(x)):\n",
    "    x[i] = i\n",
    "y[:] = 3"
   ]
  },
  {
   "cell_type": "code",
   "execution_count": null,
   "id": "976c1f6e-d6f3-4008-b58a-2d079ba1e1e7",
   "metadata": {},
   "outputs": [],
   "source": [
    "print (\"x+y =\",x+y)"
   ]
  },
  {
   "cell_type": "markdown",
   "id": "7f9931cb-0933-4a42-8184-37c1057c0035",
   "metadata": {},
   "source": [
    "## Pickling support\n",
    "\n",
    "Pickling is the standard Python serialization (file io, parallel communication). Python knows how to convert built-in data structures (strings, floating-point values, lists, tuples, ...) to a stream ob bytes. To support pickling also for our user types, we have to convert our objects into standard Python objects. For this we use the `py::pickle` support function, which takes two lamda-functions for pickling, and unpickling: \n",
    "\n",
    "```cpp\n",
    ".def(py::pickle(\n",
    "    [](Vector<double> & self) { // __getstate__\n",
    "         /* return a tuple that fully encodes the state of the object */\n",
    "    return py::make_tuple(self.Size(),\n",
    "                          py::bytes((char*)(void*)&self(0), self.Size()*sizeof(double)));\n",
    "    },\n",
    "    [](py::tuple t) { // __setstate__\n",
    "    Vector<double> v(t[0].cast<size_t>());\n",
    "    py::bytes mem = t[1].cast<py::bytes>();\n",
    "    std::memcpy(&v(0), PYBIND11_BYTES_AS_STRING(mem.ptr()), v.Size()*sizeof(double));\n",
    "    return v;\n",
    "    }))\n",
    "```\n",
    "\n",
    "We serialize a `Vector<double>` by a 2-tuple containing the vector-size, and the values as a junk of bytes in memory. For unpickling we first create a vector of the required size, and then copy the values from the py::bytes object into the vector.\n",
    "A more advanced version of pickling uses [NumPy buffer protocols](https://pybind11.readthedocs.io/en/stable/advanced/pycpp/numpy.html)."
   ]
  },
  {
   "cell_type": "code",
   "execution_count": null,
   "id": "81c98a75-2d2c-433a-bbcc-4fbd81121a12",
   "metadata": {},
   "outputs": [],
   "source": [
    "v = Vector(3)\n",
    "v[:] = 7\n",
    "\n",
    "import pickle\n",
    "f = open(\"file.txt\", 'wb')\n",
    "pickle.dump([2,\"hello\", v], f)\n",
    "del f"
   ]
  },
  {
   "cell_type": "code",
   "execution_count": null,
   "id": "f4c83e7c-e25b-41fc-8ff7-05d3b0979aa3",
   "metadata": {},
   "outputs": [],
   "source": [
    "f2 = open(\"file.txt\", 'rb')\n",
    "val = pickle.load(f2)\n",
    "print (val)\n",
    "print (val[2])"
   ]
  },
  {
   "cell_type": "markdown",
   "id": "e5aa4f39-7033-4a66-acf4-1e9f1cd780b6",
   "metadata": {
    "jp-MarkdownHeadingCollapsed": true
   },
   "source": [
    "## Exercise\n",
    "\n",
    "* Wrap your `Matrix<double,RowMajor>` to Python. Add getter/setter functions and operators. Add a property `shape`.\n",
    "  ```cpp\n",
    "   .def(\"__getitem__\",\n",
    "        [](Matrix<double, RowMajor> self, std::tuple<int, int> ind) {\n",
    "             return self(std::get<0>(ind), std::get<1>(ind));\n",
    "        })\n",
    "  .def_property_readonly(\"shape\",\n",
    "        [](const Matrix<double, RowMajor>& self) {\n",
    "             return std::tuple(self.Height(), self.Width());\n",
    "        })\n",
    "  ```\n",
    "* Measure timings for Matrix-Matrix multiplicaton called from Python (width=height=n, with n=10, n=100, n=1000). Split times into actual C++ computations, and overhead due to Python wrapping.\n",
    "* Numpy is Python standard for data exchange in scientific computing. Try to convert your Python `Vector`/`Matrix` to a numpy array using `np.asarray(v)`. How does it work ?  How efficient ?\n",
    "* For efficiency add a [Buffer protocol](https://pybind11.readthedocs.io/en/stable/advanced/pycpp/numpy.html?highlight=buffer#buffer-protocol). This is also the recommended technique for pickling."
   ]
  },
  {
   "cell_type": "markdown",
   "id": "61f06ed3-3b91-44ed-9b84-311d67e1447f",
   "metadata": {},
   "source": [
    "## Building the Python-package\n",
    "\n",
    "You found two new files `setup.py` and `pyproject.toml`. They are responsible for building and installing a Python package. If we call \n",
    "\n",
    "    pip install .\n",
    "\n",
    "the setup function from the file *setup.py* get called. It first triggers cmake, which installs everything in the directory *ASCsoft*. cmake knows nothing about the anatomy of a Python package. Here, [scikit-build](https://scikit-build.readthedocs.io/en/latest/skbuild.html) steps in.\n",
    "\n",
    "When everything is uploaded properly to github, everyone can build and install our library as a Python package by running pip install with the github url:\n",
    "\n",
    "    pip install git+https://github.com/TUWien-ASC/ASC-bla.git@pybind\n",
    "\n",
    "\n",
    "some links:\n",
    "  * [Python Packaging User Guide](https://packaging.python.org/en/latest/)\n",
    "  * [pip-tutorial](https://github.com/MichaelKim0407/tutorial-pip-package)"
   ]
  },
  {
   "cell_type": "code",
   "execution_count": null,
   "id": "2c44d556-8c08-4753-9394-05b75b4308e9",
   "metadata": {},
   "outputs": [],
   "source": []
  }
 ],
 "metadata": {
  "kernelspec": {
   "display_name": "Python 3 (ipykernel)",
   "language": "python",
   "name": "python3"
  },
  "language_info": {
   "codemirror_mode": {
    "name": "ipython",
    "version": 3
   },
   "file_extension": ".py",
   "mimetype": "text/x-python",
   "name": "python",
   "nbconvert_exporter": "python",
   "pygments_lexer": "ipython3",
   "version": "3.12.0"
  }
 },
 "nbformat": 4,
 "nbformat_minor": 5
}
