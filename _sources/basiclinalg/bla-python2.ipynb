{
 "cells": [
  {
   "cell_type": "markdown",
   "id": "e75640b4-bd83-4783-b610-e5e8f30ecb95",
   "metadata": {},
   "source": [
    "# Python bindings\n",
    "\n",
    "C++ and Python are are strong combination: With C++ we can program for maximal performance, with Python we can work with objects in a very convenient way. Both share a similar object oriented paradigm.\n",
    "\n",
    "Python bindings allow to use C++ functions and classes from Python.\n",
    "\n",
    "A very popular library for wrapping C++ objects to Python is\n",
    "[pybind11](https://pybind11.readthedocs.io/en/stable/).\n",
    "\n",
    "\n",
    "Now you have to install [Python](https://www.python.org). Choose a recent version (at least Python 3.8 should be ok). Using conda is also fine, you have to replace `pip install` by `conda-install` in the following.\n",
    "\n",
    "Install pybind11 as a Python package:\n",
    "\n",
    "    pip install pybind11\n",
    "\n",
    "\n",
    "Clone the pybind-branch from the ASC-git:\n",
    "\n",
    "    git clone --branch pybind https://github.com/TUWien-ASC/ASC-bla.git\n",
    "\n",
    "\n",
    "For building and installing our Python package we use [scikit-build](https://scikit-build.readthedocs.io/en/latest/) which can be easily installed using \n",
    "\n",
    "    pip install scikit-build\n",
    "\n",
    "Building, installing and testing ASC-bla should now work with\n",
    "\n",
    "    cd ASC-git\n",
    "    pip install . -v\n",
    "    cd py_tests\n",
    "    python py_tests"
   ]
  },
  {
   "cell_type": "markdown",
   "id": "acc54d1c-8832-46ca-937a-cfc5dceb2d9f",
   "metadata": {},
   "source": [
    "## Binding C++ classes to Python:\n",
    "\n",
    "All code for wrapping the classes and functions happens in *src/bind_bla.cpp*:\n",
    "\n",
    "```cpp\n",
    "#include <pybind11/pybind11.h>\n",
    "#include \"vector.h\"\n",
    "\n",
    "using namespace ASC_bla;\n",
    "namespace py = pybind11;\n",
    "\n",
    "PYBIND11_MODULE(bla, m) {\n",
    "    m.doc() = \"Basic linear algebra module\"; // optional module docstring\n",
    "    \n",
    "    py::class_<Vector<double>> (m, \"Vector\")\n",
    "      .def(py::init<size_t>(), \n",
    "           py::arg(\"size\"), \"create vector of given size)\n",
    "      .def(\"__len__\", &Vector<double>::Size, \n",
    "           \"return size of vector\")\n",
    "      ...\n",
    "}\n",
    "```\n",
    "\n",
    "* we include the pybind11 headers, and abbreviate the pybind11 namespace as py\n",
    "* PYBIND11_MODULE is a macro setting up the module *bla*, we can add members to it using the variable m.\n",
    "* `py::class_<Vector<double>> (m, \"Vector\")` wraps the C++ class `Vector<double>` to Python, where its name is `Vector`.\n",
    "* With `def` we can implement member functions and operators. We give the name of the function, the C++ function (which may be a old-style function pointer, or a lambda-function), name the arguments, and provide the documentation\n",
    "* `py::init<size_t>()` is a special syntax for the constructor, in this case for the ctor with one size_t argument.\n",
    "* the function `__len__` is called from the Python `len(v)` built in function"
   ]
  },
  {
   "cell_type": "markdown",
   "id": "96f7868d-5268-4ca9-b68f-7d3729318a1c",
   "metadata": {},
   "source": [
    "### setter/getter functions:\n",
    "\n",
    "```cpp\n",
    "    .def(\"__setitem__\", [](Vector<double> & self, size_t i, double v) { self(i) = v; })\n",
    "    .def(\"__getitem__\", [](Vector<double> & self, size_t i) { return self(i); })\n",
    "\n",
    "    .def(\"__setitem__\", [](Vector<double> & self, py::slice inds, double val)\n",
    "      {\n",
    "        size_t start, stop, step, n;\n",
    "        if (!inds.compute(self.Size(), &start, &stop, &step, &n))\n",
    "          throw py::error_already_set();\n",
    "        self.Range(start, stop).Slice(0,step) = val;\n",
    "      })\n",
    "```\n",
    "\n",
    "The bracket operators `v[i] = val` or `print (v[j])` call the `__setitem__` and `__getitem__` methods with an `size_t` argument. The Python slice operator `v[3:7] = 0` calls the `__setitem__` method with an `py::slice` argument. "
   ]
  },
  {
   "cell_type": "markdown",
   "id": "3ad22348-2f2f-4dc0-889c-4a1ce33ecef5",
   "metadata": {},
   "source": [
    "## Importing the python module\n",
    "We can now import the python module bla from the package ASCsoft. Either in the plane *.py* Python file, or into jupyter notebooks:"
   ]
  },
  {
   "cell_type": "code",
   "execution_count": null,
   "id": "83b8d4df-f7e6-41eb-9e5b-f3c0e7b8ed6f",
   "metadata": {},
   "outputs": [],
   "source": [
    "from ASCsoft.bla import *"
   ]
  },
  {
   "cell_type": "code",
   "execution_count": null,
   "id": "b3552b7c-6309-4f32-8629-951d81d06c73",
   "metadata": {},
   "outputs": [],
   "source": [
    "x = Vector(5)\n",
    "y = Vector(5)\n",
    "\n",
    "for i in range(len(x)):\n",
    "    x[i] = i\n",
    "y[:] = 3"
   ]
  },
  {
   "cell_type": "code",
   "execution_count": null,
   "id": "976c1f6e-d6f3-4008-b58a-2d079ba1e1e7",
   "metadata": {},
   "outputs": [],
   "source": [
    "print (\"x+y =\",x+y)"
   ]
  },
  {
   "cell_type": "markdown",
   "id": "e5aa4f39-7033-4a66-acf4-1e9f1cd780b6",
   "metadata": {},
   "source": [
    "## Exercise\n",
    "\n",
    "* Wrap your `Matrix<double,RowMajor>` to Python. Add getter/setter functions and operators.\n",
    "* Pickling is the standard Python serialization (file io, parallel communication). Add pickling support to your classes. Use `py::bytes` to store the data.\n",
    "* Numpy is Python standard for data exchange in scientific computing. Try to convert your Python `Vector`/`Matrix` to a numpy array using `np.asarray(v)`. How does it work ?  How efficient ? Add a [Buffer protocol](https://pybind11.readthedocs.io/en/stable/advanced/pycpp/numpy.html?highlight=buffer#buffer-protocol)."
   ]
  },
  {
   "cell_type": "markdown",
   "id": "61f06ed3-3b91-44ed-9b84-311d67e1447f",
   "metadata": {},
   "source": [
    "## Building the Python-package\n",
    "\n",
    "You found two new files *setup.py* and *pyproject.toml*. They are responsible for building and installing a Python package. If we call \n",
    "\n",
    "    pip install .\n",
    "\n",
    "the setup function from the file *setup.py* get called. It first triggers cmake, which installs everything in the directory *ASCsoft*. cmake knows nothing about the anatomy of a Python package. Here, [scikit-build](https://scikit-build.readthedocs.io/en/latest/skbuild.html) steps in ...\n",
    "\n",
    "When everything is uploaded properly to github, everyone can build and install our library as a Python package by running pip install with the github url:\n",
    "\n",
    "    pip install git+https://github.com/TUWien-ASC/ASC-bla.git@pybind\n",
    "\n",
    "\n",
    "some links: [pip-tutorial](https://github.com/MichaelKim0407/tutorial-pip-package)"
   ]
  },
  {
   "cell_type": "code",
   "execution_count": null,
   "id": "2c44d556-8c08-4753-9394-05b75b4308e9",
   "metadata": {},
   "outputs": [],
   "source": []
  }
 ],
 "metadata": {
  "kernelspec": {
   "display_name": "Python 3 (ipykernel)",
   "language": "python",
   "name": "python3"
  },
  "language_info": {
   "codemirror_mode": {
    "name": "ipython",
    "version": 3
   },
   "file_extension": ".py",
   "mimetype": "text/x-python",
   "name": "python",
   "nbconvert_exporter": "python",
   "pygments_lexer": "ipython3",
   "version": "3.11.5"
  }
 },
 "nbformat": 4,
 "nbformat_minor": 5
}
