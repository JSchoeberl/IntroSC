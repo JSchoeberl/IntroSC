{
 "cells": [
  {
   "cell_type": "markdown",
   "id": "4ca770e2-941b-4269-8fdb-127fc41d3bd4",
   "metadata": {},
   "source": [
    "# Caches \n",
    "\n",
    "the principle idea is ..."
   ]
  },
  {
   "cell_type": "markdown",
   "id": "c3f2850b-db4f-4da3-a260-1f3f61c3ac75",
   "metadata": {},
   "source": [
    "## Measure memory bandwidth\n",
    "\n",
    "We run the following tests on vectors:"
   ]
  },
  {
   "cell_type": "markdown",
   "id": "002eb663-952a-4260-9e3f-fc7f25f6a808",
   "metadata": {},
   "source": [
    "## Optimized matrix-matrix multiplication\n",
    "\n",
    "Paper by K. Goto and R. van de Geijn: [Anatomy of High-Performance Matrix Multiplication](https://www.cs.utexas.edu/users/flame/pubs/GotoTOMS_final.pdf)"
   ]
  },
  {
   "cell_type": "markdown",
   "id": "bdeaefbc-83bd-4061-8b7e-502ee917fb8a",
   "metadata": {},
   "source": [
    "<img src=\"pictures/matmat1.png\" align=\"center\" width=\"500px\">\n",
    "\n",
    "\n",
    "<img src=\"pictures/matmat2.png\" align=\"center\" width=\"500\"/>\n"
   ]
  },
  {
   "cell_type": "code",
   "execution_count": null,
   "id": "9be572db-26d0-4680-a9e3-270f3e7f001a",
   "metadata": {},
   "outputs": [],
   "source": []
  }
 ],
 "metadata": {
  "kernelspec": {
   "display_name": "Python 3 (ipykernel)",
   "language": "python",
   "name": "python3"
  },
  "language_info": {
   "codemirror_mode": {
    "name": "ipython",
    "version": 3
   },
   "file_extension": ".py",
   "mimetype": "text/x-python",
   "name": "python",
   "nbconvert_exporter": "python",
   "pygments_lexer": "ipython3",
   "version": "3.12.0"
  }
 },
 "nbformat": 4,
 "nbformat_minor": 5
}
