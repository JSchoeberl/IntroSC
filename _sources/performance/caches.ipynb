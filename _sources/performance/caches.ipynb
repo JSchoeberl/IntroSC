{
 "cells": [
  {
   "cell_type": "markdown",
   "id": "4ca770e2-941b-4269-8fdb-127fc41d3bd4",
   "metadata": {},
   "source": [
    "# Caches \n",
    "\n",
    "the principle idea"
   ]
  },
  {
   "cell_type": "markdown",
   "id": "c3f2850b-db4f-4da3-a260-1f3f61c3ac75",
   "metadata": {},
   "source": [
    "## Measure memory bandwidth\n",
    "\n"
   ]
  },
  {
   "cell_type": "markdown",
   "id": "002eb663-952a-4260-9e3f-fc7f25f6a808",
   "metadata": {},
   "source": [
    "## Optimized matrix-matrix multiplication\n",
    "\n",
    "Paper by K. Goto and R. van de Geijn: [Anatomy of High-Performance Matrix Multiplication](https://www.cs.utexas.edu/users/flame/pubs/GotoTOMS_final.pdf)"
   ]
  },
  {
   "cell_type": "markdown",
   "id": "bdeaefbc-83bd-4061-8b7e-502ee917fb8a",
   "metadata": {},
   "source": [
    "\n",
    "<div>\n",
    "<img src=\"pictures/matmat1.png\" width=\"500\"/>\n",
    "</div>\n",
    "\n",
    "<div>\n",
    "<img src=\"pictures/matmat2.png\" width=\"500\"/>\n",
    "</div>\n"
   ]
  },
  {
   "cell_type": "code",
   "execution_count": null,
   "id": "9a5f65a6-944b-40f1-aeaf-8edbba1e883f",
   "metadata": {},
   "outputs": [],
   "source": []
  },
  {
   "cell_type": "code",
   "execution_count": null,
   "id": "190e7489-c4e8-4291-b8bd-38a6c882772c",
   "metadata": {},
   "outputs": [],
   "source": [
    "+"
   ]
  }
 ],
 "metadata": {
  "kernelspec": {
   "display_name": "Python 3 (ipykernel)",
   "language": "python",
   "name": "python3"
  },
  "language_info": {
   "codemirror_mode": {
    "name": "ipython",
    "version": 3
   },
   "file_extension": ".py",
   "mimetype": "text/x-python",
   "name": "python",
   "nbconvert_exporter": "python",
   "pygments_lexer": "ipython3",
   "version": "3.12.0"
  }
 },
 "nbformat": 4,
 "nbformat_minor": 5
}
