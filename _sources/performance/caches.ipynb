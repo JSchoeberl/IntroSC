{
 "cells": [
  {
   "cell_type": "markdown",
   "id": "4ca770e2-941b-4269-8fdb-127fc41d3bd4",
   "metadata": {},
   "source": [
    "# Caches \n",
    "\n",
    "the principle idea is ..."
   ]
  },
  {
   "cell_type": "markdown",
   "id": "c3f2850b-db4f-4da3-a260-1f3f61c3ac75",
   "metadata": {},
   "source": [
    "## Measure memory bandwidth\n",
    "\n",
    "We run the following tests on vectors:"
   ]
  },
  {
   "cell_type": "markdown",
   "id": "002eb663-952a-4260-9e3f-fc7f25f6a808",
   "metadata": {},
   "source": [
    "## Optimized matrix-matrix multiplication\n",
    "\n",
    "Paper by K. Goto and R. van de Geijn: [Anatomy of High-Performance Matrix Multiplication](https://www.cs.utexas.edu/users/flame/pubs/GotoTOMS_final.pdf), which describes a core idea of OpenBLAS (which evolved from GotoBLAS)."
   ]
  },
  {
   "cell_type": "markdown",
   "id": "bdeaefbc-83bd-4061-8b7e-502ee917fb8a",
   "metadata": {},
   "source": [
    "In the previous section we have studied the inner-most loops to get optimal floating point performance for multiplying matrices of shape like $4 \\times k$ matrix with a $k \\times 12$. However, if we use this kernel repeatedly, we see a drop-down of performance for matrices of larger sizes (like $1000\\times 1000$). \n",
    "\n",
    "```cpp\n",
    "void AddMatMat (MatrixView<> A, MatrixView<> B, MatrixView<> C) {\n",
    "  constexpr size_t BH=96;\n",
    "  constexpr size_t BW=96;\n",
    "  double memBA[BH*BW];\n",
    "  for (size_t i1 = 0; i1+BH <= A.Height(); i1 += BH)\n",
    "    for (size_t j1 = 0; j1+BW <= A.Width(); j1 += BW) {\n",
    "      size_t i2 = min(A.Height(), i1+BH);\n",
    "      size_t j2 = min(A.Width(), j1+BW);\n",
    "\n",
    "      MatrixView Ablock(i2-i1, j2-j1, BW, memBA);\n",
    "      Ablock = A.Rows(i1,i2).Cols(j1,j2);\n",
    "      AddMatMat2 (Ablock, B.Rows(j1,j2), c.Rows(i1,i2));\n",
    "    }\n",
    "}\n",
    "```\n",
    "\n",
    "<img src=\"pictures/matmat1.png\" align=\"center\" width=\"500px\">\n",
    "\n",
    "\n",
    "<img src=\"pictures/matmat2.png\" align=\"center\" width=\"500\"/>\n"
   ]
  },
  {
   "cell_type": "code",
   "execution_count": null,
   "id": "9be572db-26d0-4680-a9e3-270f3e7f001a",
   "metadata": {},
   "outputs": [],
   "source": []
  }
 ],
 "metadata": {
  "kernelspec": {
   "display_name": "Python 3 (ipykernel)",
   "language": "python",
   "name": "python3"
  },
  "language_info": {
   "codemirror_mode": {
    "name": "ipython",
    "version": 3
   },
   "file_extension": ".py",
   "mimetype": "text/x-python",
   "name": "python",
   "nbconvert_exporter": "python",
   "pygments_lexer": "ipython3",
   "version": "3.12.0"
  }
 },
 "nbformat": 4,
 "nbformat_minor": 5
}
