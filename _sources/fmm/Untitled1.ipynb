{
 "cells": [
  {
   "cell_type": "markdown",
   "id": "433efbb7-f65f-42ea-85ce-a11907a42c4a",
   "metadata": {},
   "source": [
    "## Multipole basis functions\n",
    "\n",
    "The building blocks for multipole expansions are spherical harmonics, as well as spherical Bessel and Hankel functions. They arise from separation of variables of the Helmholtz operator, in spherical coordinates. We only state the results, for derivation we refer to the cited literature."
   ]
  },
  {
   "cell_type": "markdown",
   "id": "abe9a20a-0803-4281-94ab-b2e7ea1c5b5f",
   "metadata": {},
   "source": [
    "We define singular and regular multipoles as the following series:\n",
    "$$\n",
    "S(x) = \\sum_{n=0}^\\infty \\sum_{m=-n}^n  a_{nm} h_n(r) Y_n^m(\\hat x)\n",
    "$$\n",
    "\n",
    "$$\n",
    "R(x) = \\sum_{n=0}^\\infty \\sum_{m=-n}^n  b_{nm} j_n(r) Y_n^m(\\hat x)\n",
    "$$\n",
    "\n",
    "where \n",
    "* $r = |x|$, $\\hat x = x/r$\n",
    "* $a_{nm}$ and $b_{nm}$ are complex-valued expansion coefficients\n",
    "* $h_n$ and $j_n$ are spherical Hankel and Bessel functions, see below\n",
    "* $Y_n^m$ are so called spherical harmonics, an orthogonal basis on the sphere, see below"
   ]
  },
  {
   "cell_type": "markdown",
   "id": "e196a91b-0773-41ea-ba56-ea56bc92e08b",
   "metadata": {},
   "source": [
    "## Spherical harmonics\n",
    "\n",
    "For $n = 0, 1, 2, \\ldots$ and $-n \\leq m \\leq n$ we define\n",
    "\n",
    "$$\n",
    "Y_n^m(\\theta, \\varphi) = (-1)^m \\sqrt{\\frac{2n+1}{4\\pi} \\frac{(n-|m|)!}{(n+|m|)!}} P_n^{|m|} (\\cos \\theta) e^{im\\varphi}\n",
    "$$\n",
    "\n",
    "with the associated Legendre functions $P_n^m$, for $m \\leq n$ are defined as:\n",
    "(TODO)\n",
    "\n",
    "We call $n$ the degree, and $m$ the order. Spherical harmonics with the same degree are combined with the same Hankel or Bessel functions."
   ]
  },
  {
   "cell_type": "code",
   "execution_count": null,
   "id": "760e63ea-59d3-4713-bb14-7cc8bbeec9eb",
   "metadata": {},
   "outputs": [],
   "source": []
  }
 ],
 "metadata": {
  "kernelspec": {
   "display_name": "Python 3 (ipykernel)",
   "language": "python",
   "name": "python3"
  },
  "language_info": {
   "codemirror_mode": {
    "name": "ipython",
    "version": 3
   },
   "file_extension": ".py",
   "mimetype": "text/x-python",
   "name": "python",
   "nbconvert_exporter": "python",
   "pygments_lexer": "ipython3",
   "version": "3.12.5"
  }
 },
 "nbformat": 4,
 "nbformat_minor": 5
}
