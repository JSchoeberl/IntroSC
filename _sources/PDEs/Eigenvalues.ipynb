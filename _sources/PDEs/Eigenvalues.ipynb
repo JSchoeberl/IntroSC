{
 "cells": [
  {
   "cell_type": "markdown",
   "id": "0352c034",
   "metadata": {},
   "source": [
    "# Eigenvalue problems\n",
    "\n",
    "The Helmholtz equation (with hard boundary conditions) is singular when $\\omega^2$ is an eigenvalue of the negative Laplace operator, i.e.\n",
    "\n",
    "$$\n",
    "-\\Delta u = \\lambda u\n",
    "$$\n",
    "\n",
    "The weak form is to find eigen pairs $(\\lambda, u) \\in {\\mathbf R} \\times H^1$ such that\n",
    "\n",
    "$$\n",
    "\\int \\nabla u \\nabla v \\, dx = \\lambda \\int u v \\, dx\n",
    "$$\n",
    "\n",
    "Finite element discretization leads to the generalized matrix eigenvalue problem\n",
    "\n",
    "$$\n",
    "A u = \\lambda M u.\n",
    "$$"
   ]
  },
  {
   "cell_type": "code",
   "execution_count": null,
   "id": "226db3f0-38ab-438c-8f9f-caa400fd39b6",
   "metadata": {},
   "outputs": [],
   "source": [
    "from ngsolve import *\n",
    "from ngsolve.webgui import Draw\n",
    "\n",
    "mesh = Mesh(unit_square.GenerateMesh(maxh=0.1))\n",
    "\n",
    "fes = H1(mesh, order=3, dirichlet=\".*\")\n",
    "u,v = fes.TnT()\n",
    "a = BilinearForm(grad(u)*grad(v)*dx).Assemble()\n",
    "m = BilinearForm(u*v*dx).Assemble()"
   ]
  },
  {
   "cell_type": "markdown",
   "id": "738ea829-666f-4bc2-b0ee-2b75840e2105",
   "metadata": {},
   "source": [
    "Eigenvectorsare stationary points of the Rayleigh quotient\n",
    "\n",
    "$$\n",
    "\\frac{\\left< A u, u \\right> }{ \\left< M u, u \\right> }\n",
    "$$\n",
    "\n",
    "This characterization is used in the LOBPCG (Locally Optimal Block Preconditioned Conjugate Gradient) method."
   ]
  },
  {
   "cell_type": "code",
   "execution_count": null,
   "id": "4291fea5-079b-4b24-af38-f54cd33816e1",
   "metadata": {},
   "outputs": [],
   "source": [
    "import ngsolve.solvers\n",
    "\n",
    "pre = a.mat.Inverse(freedofs=fes.FreeDofs())\n",
    "evals, evecs = solvers.LOBPCG(a.mat, m.mat, pre=pre, num=12, maxit=20, printrates=True)\n",
    "\n",
    "for lam in evals:\n",
    "    print (lam/pi**2)"
   ]
  },
  {
   "cell_type": "code",
   "execution_count": null,
   "id": "d682644d-5466-4910-a1dd-97cd20424ed5",
   "metadata": {},
   "outputs": [],
   "source": [
    "gfu = GridFunction(fes, multidim=0)\n",
    "for evec in evecs:\n",
    "    gfu.AddMultiDimComponent(evec)\n",
    "\n",
    "Draw (gfu, min=-2, max=2);"
   ]
  },
  {
   "cell_type": "markdown",
   "id": "37ddd179-531c-445a-8d49-c75d9076ec63",
   "metadata": {},
   "source": [
    "* compute eigenfunctions on more complex domains.\n",
    "* compute eigenfunctions for the elasticity equation (e.g. a vibrating beam)\n",
    "* Eigenvalues of a tuning fork: https://www.youtube.com/watch?v=35Yh8kGbMLA"
   ]
  },
  {
   "cell_type": "code",
   "execution_count": null,
   "id": "899f9c24-f6d6-4764-8730-8123f87aa537",
   "metadata": {},
   "outputs": [],
   "source": []
  }
 ],
 "metadata": {
  "kernelspec": {
   "display_name": "Python 3 (ipykernel)",
   "language": "python",
   "name": "python3"
  },
  "language_info": {
   "codemirror_mode": {
    "name": "ipython",
    "version": 3
   },
   "file_extension": ".py",
   "mimetype": "text/x-python",
   "name": "python",
   "nbconvert_exporter": "python",
   "pygments_lexer": "ipython3",
   "version": "3.12.1"
  }
 },
 "nbformat": 4,
 "nbformat_minor": 5
}
