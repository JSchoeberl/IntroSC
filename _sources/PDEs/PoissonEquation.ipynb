{
 "cells": [
  {
   "cell_type": "markdown",
   "id": "b8387512-bc9f-4d50-8609-5a0780f39ec7",
   "metadata": {},
   "source": [
    "# The Poisson Equation\n",
    "\n",
    "A typical elliptic partial differential equation is the Poisson equation. "
   ]
  },
  {
   "cell_type": "code",
   "execution_count": null,
   "id": "6bb7cec3-2e0d-4cac-adb1-a33357f8eb1b",
   "metadata": {},
   "outputs": [],
   "source": []
  }
 ],
 "metadata": {
  "kernelspec": {
   "display_name": "Python 3 (ipykernel)",
   "language": "python",
   "name": "python3"
  },
  "language_info": {
   "codemirror_mode": {
    "name": "ipython",
    "version": 3
   },
   "file_extension": ".py",
   "mimetype": "text/x-python",
   "name": "python",
   "nbconvert_exporter": "python",
   "pygments_lexer": "ipython3",
   "version": "3.13.2"
  },
  "widgets": {
   "application/vnd.jupyter.widget-state+json": {
    "state": {},
    "version_major": 2,
    "version_minor": 0
   }
  }
 },
 "nbformat": 4,
 "nbformat_minor": 5
}
