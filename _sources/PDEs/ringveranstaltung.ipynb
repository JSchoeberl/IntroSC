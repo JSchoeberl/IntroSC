{
 "cells": [
  {
   "cell_type": "markdown",
   "id": "014d41da-0eaf-4116-ab7c-5db50d6e1dae",
   "metadata": {},
   "source": [
    "## Numerische Simulation mit der Finite Elemente Methode\n",
    "\n",
    "Anwendungsgebiete der Mathematik, TU Wien\n",
    "\n",
    "3.14, 2024\n",
    "\n",
    "\n",
    "**Joachim Schöberl**\n",
    "\n",
    "Institut für Analysis und Scientific Computing (E101)"
   ]
  },
  {
   "cell_type": "markdown",
   "id": "c9fb8e4b-cdd3-4ed7-8d85-9f41a390f57e",
   "metadata": {},
   "source": [
    "Dieser Kurs verwendet die open-source software NGSolve (www.ngsolve.org)\n",
    "\n",
    "<img src=\"NGSlogo.png\" alt=\"Alternative text\" width=\"150\" align=\"center\"/>"
   ]
  },
  {
   "cell_type": "markdown",
   "id": "a8f3ad34-b12c-4675-8a07-35d851b8162c",
   "metadata": {},
   "source": [
    "1. [Finite Elemente in der Grundvorlesung](PoissonGleichung.ipynb)\n",
    "1. [Solving the Poisson Equation](first_example.ipynb)\n",
    "1. [Boundary Conditions](boundary_conditions.ipynb)\n",
    "1. [Iterative Solvers](solvers.ipynb)\n",
    "1. [3D Solid Mechanics](elasticity3D.ipynb)\n",
    "1. [Heat Equation](heatequation.ipynb)\n",
    "1. [Wave Equation](waveequation.ipynb)\n",
    "1. [Helmholtz Equation](Helmholtz.ipynb)   \n",
    "1. [Eigenvalue problems](Eigenvalues.ipynb)    \n",
    "1. [Stationary Transport Equation](stationaryTransport.ipynb)\n",
    "1. [Instationary Transport Equation](instationaryTransport.ipynb)\n",
    "1. [Navier Stokes Equations](NavierStokes.ipynb)\n",
    "1. [Maxwell Equation](coil.ipynb)\n",
    "1. [Computation of Curvature](Curvature.ipynb)"
   ]
  },
  {
   "cell_type": "code",
   "execution_count": null,
   "id": "5cf8a5b7-53f2-4d90-bb77-e2be74b7b29f",
   "metadata": {},
   "outputs": [],
   "source": []
  }
 ],
 "metadata": {
  "kernelspec": {
   "display_name": "Python 3 (ipykernel)",
   "language": "python",
   "name": "python3"
  },
  "language_info": {
   "codemirror_mode": {
    "name": "ipython",
    "version": 3
   },
   "file_extension": ".py",
   "mimetype": "text/x-python",
   "name": "python",
   "nbconvert_exporter": "python",
   "pygments_lexer": "ipython3",
   "version": "3.12.2"
  }
 },
 "nbformat": 4,
 "nbformat_minor": 5
}
