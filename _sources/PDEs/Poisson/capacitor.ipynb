{
 "cells": [
  {
   "cell_type": "markdown",
   "id": "e60190e6-729f-4d8c-bd25-64e26bac1c02",
   "metadata": {},
   "source": [
    "# The electric field in a capacitor\n",
    "\n",
    "We model electrostatics. The field variables are\n",
    "\n",
    "| symbol | unit | meaning |\n",
    "|--------|-------|-------|\n",
    "| $\\phi$ | V | electrostatic potential |\n",
    "| $\\rho$ | $\\frac{As}{m^3}$ | charge density | \n",
    "| $E$    | $\\frac{V}{m}$  | electric field |\n",
    "| $D$    | $\\frac{As}{m^2}$ | displacement current density |\n",
    "\n",
    "where $V$ is Volt and $A$ is Ampere.\n",
    "The equations are\n",
    "\n",
    "$$\n",
    "E = - \\nabla \\phi \\qquad D = \\varepsilon E \\qquad \\operatorname{div} D = \\rho,\n",
    "$$\n",
    "The material parameter $\\varepsilon$ is called dielectric parameters, and is often written as $\\epsilon = \\varepsilon_r \\varepsilon_0$, with $\\varepsilon_0 = 8.854 \\cdot 10^{-12} \\frac{As}{Vm}$ is the dielectric constant of vacuum. Sign convention follows the tradition.\n",
    "\n",
    "Combining the equations we obtain\n",
    "\n",
    "$$\n",
    "- \\operatorname{div} (\\varepsilon \\nabla \\phi) = \\rho.\n",
    "$$\n",
    "Possible boundary conditions are\n",
    "* Dirichlet boundary conditions for the potential $\\phi$\n",
    "* Neumann boundary conditions for $D_n = \\varepsilon \\frac{\\partial \\phi}{\\partial n}$"
   ]
  },
  {
   "cell_type": "code",
   "execution_count": null,
   "id": "cae64c6a-81fc-4d73-b008-72472c281804",
   "metadata": {},
   "outputs": [],
   "source": [
    "from ngsolve import *\n",
    "from netgen.occ import *\n",
    "from ngsolve.webgui import Draw"
   ]
  },
  {
   "cell_type": "code",
   "execution_count": null,
   "id": "dd17ec01-6969-41cb-9243-6e081331e010",
   "metadata": {},
   "outputs": [],
   "source": [
    "def MakeMesh():\n",
    "    shape = MoveTo(0,0).RectangleC(20,20) \\\n",
    "        .MoveTo(0,1).RectangleC(5,0.5, \"el1\").Reverse() \\\n",
    "        .MoveTo(0,-1).RectangleC(5,0.5, \"el2\").Reverse() \\\n",
    "        .Face()\n",
    "    shape.edges[\"el.*\"].vertices.hpref=1\n",
    "    mesh = Mesh(OCCGeometry(shape, dim=2).GenerateMesh(maxh=2))\n",
    "    return shape,mesh"
   ]
  },
  {
   "cell_type": "markdown",
   "id": "5d2d9910-34d8-499f-a4b9-5708ec4ccf9a",
   "metadata": {},
   "source": [
    "We model the geometry and generate the mesh for a plate capacitor:"
   ]
  },
  {
   "cell_type": "code",
   "execution_count": null,
   "id": "51e145d4-0312-4261-9cb2-4f167777b72e",
   "metadata": {},
   "outputs": [],
   "source": [
    "geo, mesh = MakeMesh()\n",
    "Draw (geo)\n",
    "Draw (mesh);"
   ]
  },
  {
   "cell_type": "markdown",
   "id": "02be0c8d-3d61-4c31-a5b2-174ad656a114",
   "metadata": {},
   "source": [
    "Assemble and solve the finite element system. The potential at the electrodes is prescribed as Dirichlet boundary condition (+1 Volt and -1 Volt at upper and lower electrodes)."
   ]
  },
  {
   "cell_type": "code",
   "execution_count": null,
   "id": "2a7c81f8-4138-4448-a3ed-903c4b6363a1",
   "metadata": {},
   "outputs": [],
   "source": [
    "eps0 = 8.854e-12\n",
    "\n",
    "def SolveProblem(mesh):\n",
    "    fes = H1(mesh, order=5, dirichlet=\"el.*\")\n",
    "    u,v = fes.TnT()\n",
    "\n",
    "    gfu = GridFunction(fes)\n",
    "    gfu.Interpolate( mesh.BoundaryCF( {\"el1\":1, \"el2\":-1 }), mesh.Boundaries(\".*\"))\n",
    "\n",
    "    a = BilinearForm(eps0*grad(u)*grad(v)*dx).Assemble()\n",
    "    inv = a.mat.Inverse(freedofs=fes.FreeDofs())\n",
    "    gfu.vec.data -= inv@a.mat * gfu.vec\n",
    "    return gfu\n",
    "\n",
    "gfu = SolveProblem(mesh)\n",
    "\n",
    "ea = { \"euler_angles\" : [-70,0,-40]} \n",
    "Draw (gfu, deformation=True, scale=5, **ea);"
   ]
  },
  {
   "cell_type": "markdown",
   "id": "a465a066-61cb-4c31-b3fd-04e28dae869d",
   "metadata": {},
   "source": [
    "The electric field is the gradient:"
   ]
  },
  {
   "cell_type": "code",
   "execution_count": null,
   "id": "c4cbb35c-80db-470d-bb06-6fc268bc35a5",
   "metadata": {},
   "outputs": [],
   "source": [
    "Draw (Norm(grad(gfu)), mesh, order=3, deformation=True, min=0, max=3, **ea);"
   ]
  },
  {
   "cell_type": "markdown",
   "id": "52231d46-7acb-4394-9a9c-ec8c81db9b2a",
   "metadata": {},
   "source": [
    "To resolve the singularities at the corners we apply strong mesh refinement. We use `RefineHP`:"
   ]
  },
  {
   "cell_type": "code",
   "execution_count": null,
   "id": "131e9c2d-63a9-4ab8-9200-289ff73ac515",
   "metadata": {},
   "outputs": [],
   "source": [
    "geo, mesh = MakeMesh()\n",
    "mesh.RefineHP(3, 0.25)\n",
    "gfu = SolveProblem(mesh)\n",
    "Draw (gfu, deformation=True, scale=5, **ea)\n",
    "Draw (Norm(grad(gfu)), mesh, order=3, deformation=True, min=0, max=3, **ea);"
   ]
  },
  {
   "cell_type": "markdown",
   "id": "073830b1-3a6e-4c2f-ba3a-86278db1f696",
   "metadata": {},
   "source": [
    "To avoid such singularities, we can smooth the sharp corners:"
   ]
  },
  {
   "cell_type": "code",
   "execution_count": null,
   "id": "d587fc84-1a08-490a-a6fc-778682a0f513",
   "metadata": {},
   "outputs": [],
   "source": [
    "def MakeMeshRounded():\n",
    "    square = MoveTo(0,0).RectangleC(20,20).Face()\n",
    "    el1 = MoveTo(0,1).RectangleC(5,0.5).Face()\n",
    "    el1 += MoveTo(2.5,1).Circle(0.25).Face()\n",
    "    el1 += MoveTo(-2.5,1).Circle(0.25).Face()\n",
    "    el1.edges.name=\"el1\"\n",
    "    el2 = MoveTo(0,-1).RectangleC(5,0.5).Face()\n",
    "    el2 += MoveTo(2.5,-1).Circle(0.25).Face()\n",
    "    el2 += MoveTo(-2.5,-1).Circle(0.25).Face()\n",
    "    el2.edges.name=\"el2\"\n",
    "    geo = square - el1 - el2\n",
    "    mesh = Mesh(OCCGeometry(geo, dim=2).GenerateMesh(maxh=2))\n",
    "    return geo,mesh"
   ]
  },
  {
   "cell_type": "code",
   "execution_count": null,
   "id": "0d3d0515-523c-4f2a-9c9a-e0615577c81b",
   "metadata": {},
   "outputs": [],
   "source": [
    "geo, mesh = MakeMeshRounded()\n",
    "Draw(geo)\n",
    "Draw (mesh);"
   ]
  },
  {
   "cell_type": "code",
   "execution_count": null,
   "id": "fd5d700e-b083-4ae8-a7c8-679bee065d56",
   "metadata": {},
   "outputs": [],
   "source": [
    "gfu = SolveProblem(mesh)\n",
    "Draw (gfu, deformation=True, scale=5, **ea)\n",
    "Draw (Norm(grad(gfu)), mesh, order=3, deformation=True, min=0, max=2, **ea);"
   ]
  },
  {
   "cell_type": "markdown",
   "id": "c2376cbb-e95c-4f80-a565-fab48a35a90b",
   "metadata": {},
   "source": [
    "We still see spikes at the vertices of the mesh. To avoid such home-made singularities we can curve the elements using the `Curve` function."
   ]
  },
  {
   "cell_type": "code",
   "execution_count": null,
   "id": "90d2dea4-c0de-417b-87b4-fd014c879ce7",
   "metadata": {},
   "outputs": [],
   "source": [
    "geo, mesh = MakeMeshRounded()\n",
    "mesh.Curve(5)\n",
    "\n",
    "gfu = SolveProblem(mesh)\n",
    "Draw (gfu, deformation=True, scale=5, **ea)\n",
    "Draw (Norm(grad(gfu)), mesh, order=3, deformation=True, min=0, max=3, **ea);"
   ]
  },
  {
   "cell_type": "markdown",
   "id": "4bc5fd17-8c84-49bb-9338-1dfce9044883",
   "metadata": {},
   "source": [
    "## Exercises:\n",
    "\n",
    "* Compute the total energy in the electrostatic field $\\tfrac{1}{2} \\int \\varepsilon | E |^2$\n",
    "* Compute the total charge at one electrode $\\int_{\\Gamma_{El1}} D_n$\n",
    "* Visualize the Neumann data, the surface charge density $\\rho_s = D_n$\n",
    "* Use symmetry of the problem to reduce the computation to a quarter of the domain\n",
    "* Model the capacitor in 3D"
   ]
  },
  {
   "cell_type": "markdown",
   "id": "7a4d2ceb-eec2-4809-897a-b0df4af1a810",
   "metadata": {},
   "source": [
    "Use the following trick to compute Neumann data: Define the linear functional on $H^1$.\n",
    "\n",
    "$$\n",
    "r(\\psi) = \\int \\varepsilon \\nabla \\phi \\nabla \\psi - \\int \\rho \\psi\n",
    "$$\n",
    "By properties of the solution, it vanishes for $\\psi \\in H_0^1$. Perform integration by parts backwards to obtain\n",
    "\n",
    "$$\n",
    "r(\\psi) = - \\int_\\Omega (\\operatorname{div} \\varepsilon \\phi + \\rho) \\psi + \\int_{\\partial \\Omega} \\varepsilon \\partial_n \\phi \\psi = \\int_{\\partial \\Omega} D_n \\psi\n",
    "$$"
   ]
  },
  {
   "cell_type": "code",
   "execution_count": null,
   "id": "2f369af7-7141-48dc-be13-de01b1d03526",
   "metadata": {},
   "outputs": [],
   "source": []
  }
 ],
 "metadata": {
  "kernelspec": {
   "display_name": "Python 3 (ipykernel)",
   "language": "python",
   "name": "python3"
  },
  "language_info": {
   "codemirror_mode": {
    "name": "ipython",
    "version": 3
   },
   "file_extension": ".py",
   "mimetype": "text/x-python",
   "name": "python",
   "nbconvert_exporter": "python",
   "pygments_lexer": "ipython3",
   "version": "3.13.2"
  },
  "widgets": {
   "application/vnd.jupyter.widget-state+json": {
    "state": {},
    "version_major": 2,
    "version_minor": 0
   }
  }
 },
 "nbformat": 4,
 "nbformat_minor": 5
}
